{
 "cells": [
  {
   "cell_type": "code",
   "execution_count": 5,
   "id": "fe59f958",
   "metadata": {},
   "outputs": [],
   "source": [
    "import pandas as pd\n",
    "\n",
    "# Load emotion_students.xlsx file\n",
    "emotion_students_df = pd.read_excel(\"emotion_student.xlsx\", index_col=\"Name\")\n",
    "\n",
    "# Extract period columns\n",
    "period_columns = [col for col in emotion_students_df.columns if col.startswith(\"Period\")]\n",
    "\n",
    "# Extract subjects from period column names\n",
    "subjects = [col.split()[3] for col in period_columns]\n",
    "\n",
    "# Load teachers.xlsx file\n",
    "teachers_df = pd.read_excel(\"teachers.xlsx\")\n",
    "\n",
    "# Match subjects with corresponding teacher's name\n",
    "teacher_names = []\n",
    "for subject in subjects:\n",
    "    teacher_info = teachers_df[teachers_df[\"Subject\"].str.lower() == subject.lower()]\n",
    "    if not teacher_info.empty:\n",
    "        teacher_name = teacher_info.iloc[0][\"Name\"]\n",
    "    else:\n",
    "        teacher_name = \"Unknown\"\n",
    "    teacher_names.append(teacher_name)\n",
    "\n",
    "# Calculate mode of each period's emotions\n",
    "mode_emotions = emotion_students_df[period_columns].mode(axis=0).iloc[0]\n",
    "\n",
    "# Create DataFrame for feedback\n",
    "feedback_df = pd.DataFrame({\"Teacher Name\": teacher_names, \"Mode Emotion\": mode_emotions})\n",
    "\n",
    "# Write DataFrame to feedback.xlsx file\n",
    "feedback_df.to_excel(\"feedback.xlsx\", index=False)\n"
   ]
  },
  {
   "cell_type": "code",
   "execution_count": null,
   "id": "cc0e131c",
   "metadata": {},
   "outputs": [],
   "source": []
  }
 ],
 "metadata": {
  "kernelspec": {
   "display_name": "Python 3 (ipykernel)",
   "language": "python",
   "name": "python3"
  },
  "language_info": {
   "codemirror_mode": {
    "name": "ipython",
    "version": 3
   },
   "file_extension": ".py",
   "mimetype": "text/x-python",
   "name": "python",
   "nbconvert_exporter": "python",
   "pygments_lexer": "ipython3",
   "version": "3.11.5"
  }
 },
 "nbformat": 4,
 "nbformat_minor": 5
}
