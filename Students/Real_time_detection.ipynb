{
 "cells": [
  {
   "cell_type": "code",
   "execution_count": 2,
   "id": "38c56681",
   "metadata": {},
   "outputs": [],
   "source": [
    "import cv2\n",
    "import numpy as np\n",
    "import face_recognition\n",
    "import joblib\n",
    "\n",
    "class RealTimeFaceRecognizer:\n",
    "    def __init__(self, model_path):\n",
    "        self.model = joblib.load(model_path)\n",
    "\n",
    "    def recognize_faces(self, video_capture):\n",
    "        while True:\n",
    "            # Capture frame-by-frame\n",
    "            ret, frame = video_capture.read()\n",
    "\n",
    "            # Convert the frame from BGR color to RGB color (required for face_recognition library)\n",
    "            rgb_frame = cv2.cvtColor(frame, cv2.COLOR_BGR2RGB)\n",
    "\n",
    "            # Find all the faces and face encodings in the current frame\n",
    "            face_locations = face_recognition.face_locations(rgb_frame)\n",
    "            face_encodings = face_recognition.face_encodings(rgb_frame, face_locations)\n",
    "\n",
    "            # Loop through each face found in the frame\n",
    "            for (top, right, bottom, left), face_encoding in zip(face_locations, face_encodings):\n",
    "                # Perform face recognition\n",
    "                predictions = self.model.predict([face_encoding])\n",
    "                name = predictions[0]\n",
    "\n",
    "                # Draw a rectangle around the face\n",
    "                cv2.rectangle(frame, (left, top), (right, bottom), (0, 255, 0), 2)\n",
    "\n",
    "                # Draw a label with the name above the face\n",
    "                cv2.rectangle(frame, (left, top - 35), (right, top), (0, 255, 0), cv2.FILLED)\n",
    "                font = cv2.FONT_HERSHEY_DUPLEX\n",
    "                cv2.putText(frame, name, (left + 6, top - 6), font, 1.0, (255, 255, 255), 1)\n",
    "\n",
    "            # Display the resulting frame\n",
    "            cv2.imshow('Video', frame)\n",
    "\n",
    "            # Break the loop if 'q' is pressed\n",
    "            if cv2.waitKey(1) & 0xFF == ord('q'):\n",
    "                break\n",
    "\n",
    "        # Release the video capture object and close all windows\n",
    "        video_capture.release()\n",
    "        cv2.destroyAllWindows()\n",
    "\n",
    "if __name__ == \"__main__\":\n",
    "    model_path = \"students_trained_model.pkl\"  # Path to your trained model\n",
    "    recognizer = RealTimeFaceRecognizer(model_path)\n",
    "\n",
    "    # Initialize the camera\n",
    "    video_capture = cv2.VideoCapture(0)  # 0 for default camera, change it according to your camera setup\n",
    "\n",
    "    # Perform real-time face recognition\n",
    "    recognizer.recognize_faces(video_capture)\n"
   ]
  },
  {
   "cell_type": "code",
   "execution_count": null,
   "id": "da1e6bdf",
   "metadata": {},
   "outputs": [],
   "source": []
  }
 ],
 "metadata": {
  "kernelspec": {
   "display_name": "Python 3 (ipykernel)",
   "language": "python",
   "name": "python3"
  },
  "language_info": {
   "codemirror_mode": {
    "name": "ipython",
    "version": 3
   },
   "file_extension": ".py",
   "mimetype": "text/x-python",
   "name": "python",
   "nbconvert_exporter": "python",
   "pygments_lexer": "ipython3",
   "version": "3.11.5"
  }
 },
 "nbformat": 4,
 "nbformat_minor": 5
}
