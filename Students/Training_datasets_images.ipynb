{
 "cells": [
  {
   "cell_type": "code",
   "execution_count": 4,
   "id": "6374823a",
   "metadata": {},
   "outputs": [
    {
     "name": "stdout",
     "output_type": "stream",
     "text": [
      "Model trained and saved at students_trained_model.pkl. Tick added in 'Trained' column.\n"
     ]
    }
   ],
   "source": [
    "import os\n",
    "import numpy as np\n",
    "from sklearn.svm import SVC\n",
    "from sklearn.model_selection import train_test_split\n",
    "import face_recognition\n",
    "import joblib\n",
    "import openpyxl\n",
    "\n",
    "def load_images(dataset_path):\n",
    "    X = []\n",
    "    y = []\n",
    "\n",
    "    for person_name in os.listdir(dataset_path):\n",
    "        person_dir = os.path.join(dataset_path, person_name)\n",
    "        if os.path.isdir(person_dir):  # Check if it's a directory\n",
    "            for image_name in os.listdir(person_dir):\n",
    "                image_path = os.path.join(person_dir, image_name)\n",
    "                if os.path.isfile(image_path):  # Check if it's a file\n",
    "                    try:\n",
    "                        image = face_recognition.load_image_file(image_path)\n",
    "                        encoding = face_recognition.face_encodings(image)\n",
    "                        if len(encoding) > 0:\n",
    "                            X.append(encoding[0])\n",
    "                            y.append(person_name)\n",
    "                    except Exception as e:\n",
    "                        print(f\"Error processing image {image_path}: {e}\")\n",
    "\n",
    "    return np.array(X), np.array(y)\n",
    "\n",
    "def train_and_save_model(X_train, y_train, model_path):\n",
    "    svm = SVC(kernel='linear')  # You can change the kernel as per your requirement\n",
    "    svm.fit(X_train, y_train)\n",
    "    joblib.dump(svm, model_path)\n",
    "    return model_path\n",
    "\n",
    "def update_excel_trained(model_path, success):\n",
    "    workbook = openpyxl.load_workbook('students.xlsx')\n",
    "    sheet = workbook.active\n",
    "    sheet['D1'] = \"Trained\"\n",
    "    \n",
    "    if success:\n",
    "        trained_status = \"✔\"\n",
    "    else:\n",
    "        trained_status = \"✘\"\n",
    "    \n",
    "    for row in sheet.iter_rows(min_row=2, max_row=sheet.max_row, min_col=1, max_col=1):\n",
    "        for cell in row:\n",
    "            if cell.value == os.path.splitext(os.path.basename(model_path))[0]:\n",
    "                cell.offset(column=3).value = trained_status\n",
    "    \n",
    "    workbook.save('students.xlsx')\n",
    "\n",
    "def main():\n",
    "    dataset_path = \"datasets\"\n",
    "    X, y = load_images(dataset_path)\n",
    "\n",
    "    X_train, X_test, y_train, y_test = train_test_split(X, y, test_size=0.2, random_state=42)\n",
    "\n",
    "    model_path = train_and_save_model(X_train, y_train, \"students_trained_model.pkl\")\n",
    "    \n",
    "    if os.path.exists(model_path):\n",
    "        update_excel_trained(model_path, True)\n",
    "        print(f\"Model trained and saved at {model_path}. Tick added in 'Trained' column.\")\n",
    "    else:\n",
    "        update_excel_trained(model_path, False)\n",
    "        print(f\"Model training failed. Cross added in 'Trained' column.\")\n",
    "\n",
    "if __name__ == \"__main__\":\n",
    "    main()\n"
   ]
  },
  {
   "cell_type": "code",
   "execution_count": null,
   "id": "39acb2cb",
   "metadata": {},
   "outputs": [],
   "source": []
  },
  {
   "cell_type": "code",
   "execution_count": null,
   "id": "7bacf8af",
   "metadata": {},
   "outputs": [],
   "source": []
  }
 ],
 "metadata": {
  "kernelspec": {
   "display_name": "Python 3 (ipykernel)",
   "language": "python",
   "name": "python3"
  },
  "language_info": {
   "codemirror_mode": {
    "name": "ipython",
    "version": 3
   },
   "file_extension": ".py",
   "mimetype": "text/x-python",
   "name": "python",
   "nbconvert_exporter": "python",
   "pygments_lexer": "ipython3",
   "version": "3.11.5"
  }
 },
 "nbformat": 4,
 "nbformat_minor": 5
}
