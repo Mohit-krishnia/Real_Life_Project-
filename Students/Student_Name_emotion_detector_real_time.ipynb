{
 "cells": [
  {
   "cell_type": "code",
   "execution_count": 1,
   "id": "63f869d3",
   "metadata": {},
   "outputs": [
    {
     "name": "stderr",
     "output_type": "stream",
     "text": [
      "C:\\Users\\KCS\\AppData\\Roaming\\Python\\Python311\\site-packages\\pandas\\core\\arrays\\masked.py:60: UserWarning: Pandas requires version '1.3.6' or newer of 'bottleneck' (version '1.3.5' currently installed).\n",
      "  from pandas.core import (\n"
     ]
    },
    {
     "name": "stdout",
     "output_type": "stream",
     "text": [
      "WARNING:tensorflow:From C:\\Users\\KCS\\anaconda3\\Lib\\site-packages\\keras\\src\\losses.py:2976: The name tf.losses.sparse_softmax_cross_entropy is deprecated. Please use tf.compat.v1.losses.sparse_softmax_cross_entropy instead.\n",
      "\n"
     ]
    }
   ],
   "source": [
    "import cv2\n",
    "import numpy as np\n",
    "import face_recognition\n",
    "from deepface import DeepFace\n",
    "import joblib\n",
    "\n",
    "class RealTimeFaceRecognizer:\n",
    "    def __init__(self, model_path):\n",
    "        self.model = joblib.load(model_path)\n",
    "\n",
    "    def recognize_faces_and_emotions(self, video_capture):\n",
    "        while True:\n",
    "            # Capture frame-by-frame\n",
    "            ret, frame = video_capture.read()\n",
    "\n",
    "            if not ret:\n",
    "                break\n",
    "\n",
    "            # Convert the frame from BGR color to RGB color (required for face_recognition library)\n",
    "            rgb_frame = cv2.cvtColor(frame, cv2.COLOR_BGR2RGB)\n",
    "\n",
    "            # Find all the faces and face encodings in the current frame\n",
    "            face_locations = face_recognition.face_locations(rgb_frame)\n",
    "            face_encodings = face_recognition.face_encodings(rgb_frame, face_locations)\n",
    "\n",
    "            # If faces are detected\n",
    "            for (top, right, bottom, left), face_encoding in zip(face_locations, face_encodings):\n",
    "                # Perform face recognition\n",
    "                predictions = self.model.predict([face_encoding])\n",
    "                name = predictions[0]\n",
    "\n",
    "                # Draw a rectangle around the face\n",
    "                cv2.rectangle(frame, (left, top), (right, bottom), (0, 255, 0), 2)\n",
    "\n",
    "                # Analyze emotion for the face\n",
    "                try:\n",
    "                    # Extract the face region as a NumPy array\n",
    "                    face_np = frame[top:bottom, left:right]\n",
    "\n",
    "                    emotion_results = DeepFace.analyze(face_np, actions=['emotion'], enforce_detection=False)\n",
    "\n",
    "                    # Get the dominant emotion\n",
    "                    emotion = emotion_results[0]['dominant_emotion']\n",
    "\n",
    "                    # Display emotion label on the rectangle\n",
    "                    cv2.putText(frame, f\"{name} - {emotion}\", (left, top - 10), cv2.FONT_HERSHEY_SIMPLEX, 0.9, (255, 255, 255), 2)\n",
    "\n",
    "                except ValueError as e:\n",
    "                    print(e)\n",
    "\n",
    "            # Display the resulting frame\n",
    "            cv2.imshow('Real-Time Recognition with Emotion Detection', frame)\n",
    "\n",
    "            # Break the loop if 'q' is pressed\n",
    "            if cv2.waitKey(1) & 0xFF == ord('q'):\n",
    "                break\n",
    "\n",
    "        # Release the video capture object and close all windows\n",
    "        video_capture.release()\n",
    "        cv2.destroyAllWindows()\n",
    "\n",
    "if __name__ == \"__main__\":\n",
    "    model_path = \"students_trained_model.pkl\"  # Path to your trained model\n",
    "    recognizer = RealTimeFaceRecognizer(model_path)\n",
    "\n",
    "    # Open the camera\n",
    "    video_capture = cv2.VideoCapture(0)  # 0 for default camera, change it if you have multiple cameras\n",
    "\n",
    "    # Perform real-time face recognition with emotion detection\n",
    "    recognizer.recognize_faces_and_emotions(video_capture)\n"
   ]
  },
  {
   "cell_type": "code",
   "execution_count": null,
   "id": "811c4671",
   "metadata": {},
   "outputs": [],
   "source": []
  }
 ],
 "metadata": {
  "kernelspec": {
   "display_name": "Python 3 (ipykernel)",
   "language": "python",
   "name": "python3"
  },
  "language_info": {
   "codemirror_mode": {
    "name": "ipython",
    "version": 3
   },
   "file_extension": ".py",
   "mimetype": "text/x-python",
   "name": "python",
   "nbconvert_exporter": "python",
   "pygments_lexer": "ipython3",
   "version": "3.11.5"
  }
 },
 "nbformat": 4,
 "nbformat_minor": 5
}
